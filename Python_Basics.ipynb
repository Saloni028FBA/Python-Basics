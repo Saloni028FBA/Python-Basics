{
  "nbformat": 4,
  "nbformat_minor": 0,
  "metadata": {
    "colab": {
      "provenance": []
    },
    "kernelspec": {
      "name": "python3",
      "display_name": "Python 3"
    },
    "language_info": {
      "name": "python"
    }
  },
  "cells": [
    {
      "cell_type": "markdown",
      "source": [
        "#### Python Basics\n",
        "#Theory Part\n",
        "\n",
        "\n",
        "\n",
        "\n"
      ],
      "metadata": {
        "id": "-98KKioMjZyk"
      }
    },
    {
      "cell_type": "markdown",
      "source": [
        "\n",
        "1. What is Python, and why is it popular?\n",
        "  - Python is a programming language, which is a set of instructions that instruct a computer how to perform a tasks.\n",
        "  - Python as a programming language helps communicating with the machine as a machine is incable of understanding human language, converting human language in bits [0,1] which can be understood by the machine.  \n",
        "\n",
        "   - **Reasons why Python is popular:**\n",
        "\n",
        "    a) **Python is versatile** in nature because it can used across different domain without major modification runs on windows, macOS and even mobile phones making it go to language for different environments.\n",
        "\n",
        "    b) **Python is scaleable** in nature as it can handle small as well as enterprise level systems integarting with high performance language like C, C++ making it more powerful for high and optimize performance.\n",
        "\n",
        "    c) **Python is well know for its simplicity**, easy to learn and readable syntax well suited for beginner.\n",
        "\n",
        "    d) **Rich ecosystem of libraries** having vast, diverse and coninously growing libraries suitable for any domain like finance,AI,web development which help developer saves time and building solutions by using the well written codes rather than actually creating from scratch.\n",
        "\n",
        "    e) **Strong community support**, Python has strong and active communtity which means a huge number of developers community which provides better learning resources,continous improvement and support for beginner as well as professional players.\n",
        "\n",
        "    d) **Python provides open and free sources** which are accessible to everyone only requiring internet connection, a device suitable for pyhton program to run and enthusiatsic mindset.\n",
        "\n",
        "\n"
      ],
      "metadata": {
        "id": "1KPzBox0ZMVh"
      }
    },
    {
      "cell_type": "markdown",
      "source": [
        "\n",
        "2. What is an interpreter in Python?\n",
        "  - An interpreter in pyhton is a program that reads and execute python code line by line, converting python code into machine readable instructions in real time as it encounters and gives the results immediately.\n",
        "  - Python unlike complier language (C,C++), which translate the entire code at once interpreter break the code in smaller components known as Tokens and translate each instruction as it encounter."
      ],
      "metadata": {
        "id": "0M0EBmZqkBCc"
      }
    },
    {
      "cell_type": "markdown",
      "source": [
        "3. What are pre-defined keywords in Python?\n",
        "   - In python pre-defined keywords are known as reserved words which as specific meanng and purpose within the python language.\n",
        "   - These keywords cannot be used as identifiers (variable name, identifiers).\n",
        "   - They are used for control flow, loops, function, error handling and logic.\n",
        "   - Python keyword are case sensitive which means, \"True\" is a keyword but \"true\" is not considered as keyword.\n",
        "   - There are many types of keywords however here are few:\n",
        "\n",
        "      a) Boolean keywords - [True, False, None], commonly used in logical operations.\n",
        "\n",
        "      b) Conditional keyword - [if, else, elif], used to make flow decision in python.\n"
      ],
      "metadata": {
        "id": "-RlxeWlOu4Q7"
      }
    },
    {
      "cell_type": "markdown",
      "source": [
        "4. Can keywords be used as variable names?\n",
        "   - No, python keywords cannot be used as variable names because they have pre-defined meaning and purpose within python language.\n",
        "   -  In python  keywords are known as reserved words.\n",
        "   -  Keywords are used in specific tasks like looping, conditioning and functions.\n",
        "   - Attempting to use keyword as variable name can give results as \"Syntax error\".\n",
        "   "
      ],
      "metadata": {
        "id": "rSnY_xVmzcSf"
      }
    },
    {
      "cell_type": "code",
      "source": [
        "# Example for question no 4:\n",
        "for = \"hello world\":\n",
        "  print(for)"
      ],
      "metadata": {
        "colab": {
          "base_uri": "https://localhost:8080/",
          "height": 110
        },
        "id": "WglS61S11eET",
        "outputId": "5375dcad-c8ad-4dca-cf1c-113d62b0af1d"
      },
      "execution_count": null,
      "outputs": [
        {
          "output_type": "error",
          "ename": "SyntaxError",
          "evalue": "invalid syntax (<ipython-input-1-d77f9225ad70>, line 2)",
          "traceback": [
            "\u001b[0;36m  File \u001b[0;32m\"<ipython-input-1-d77f9225ad70>\"\u001b[0;36m, line \u001b[0;32m2\u001b[0m\n\u001b[0;31m    for = \"hello world\":\u001b[0m\n\u001b[0m        ^\u001b[0m\n\u001b[0;31mSyntaxError\u001b[0m\u001b[0;31m:\u001b[0m invalid syntax\n"
          ]
        }
      ]
    },
    {
      "cell_type": "code",
      "source": [
        "# Solution for the above error (Ques no - 4)\n",
        "a = \"hello world\"\n",
        "print(a)"
      ],
      "metadata": {
        "colab": {
          "base_uri": "https://localhost:8080/"
        },
        "id": "N8TuNJLP3Tdl",
        "outputId": "f7c3c104-6226-4fc3-ba0e-50c146fc1b95"
      },
      "execution_count": null,
      "outputs": [
        {
          "output_type": "stream",
          "name": "stdout",
          "text": [
            "hello world\n"
          ]
        }
      ]
    },
    {
      "cell_type": "markdown",
      "source": [
        "5. What is mutability in Python?\n",
        "  - Mutability in python refers where an object cannot be modified after its creation.\n",
        "  - Contrary to this, is immutability in python where objects can be modified even after their creation. Ex- Tuples, Strings.\n",
        "  - Examples of mutability is - Lists, dicttionary and sets.\n"
      ],
      "metadata": {
        "id": "Ug9Yxewp1zBC"
      }
    },
    {
      "cell_type": "code",
      "source": [
        "# Example for the Ques no - 5\n",
        "grocery_lists = [\"apple\", \"banana\", \"orange\"]\n",
        "print(grocery_lists)"
      ],
      "metadata": {
        "colab": {
          "base_uri": "https://localhost:8080/"
        },
        "id": "x9lUpw604Og3",
        "outputId": "a4acc8ce-21f0-4dba-c1d3-2e40ed761cb8"
      },
      "execution_count": null,
      "outputs": [
        {
          "output_type": "stream",
          "name": "stdout",
          "text": [
            "['apple', 'banana', 'orange']\n"
          ]
        }
      ]
    },
    {
      "cell_type": "code",
      "source": [
        "grocery_lists[1] = \"Pineapple\"\n",
        "print(grocery_lists)"
      ],
      "metadata": {
        "colab": {
          "base_uri": "https://localhost:8080/"
        },
        "id": "rWh2ed-v4hdR",
        "outputId": "0bf75642-8b87-4c34-fcdc-6c5d13995c27"
      },
      "execution_count": null,
      "outputs": [
        {
          "output_type": "stream",
          "name": "stdout",
          "text": [
            "['apple', 'Pineapple', 'orange']\n"
          ]
        }
      ]
    },
    {
      "cell_type": "markdown",
      "source": [
        "6. Why are lists mutable, but tuples are immutable?\n",
        "  - Lists are mutable as it allocates list in a dynamic memory, so making it possible to add, remove and modify stored elements.\n",
        "  - This nature of list as mutable is flexible howerver slower compared to tuples and lacks in memory efficiency.\n",
        "  - Lists are mutable because they prioritize flexibility for dyanamic data manupulation.\n",
        "  - Whereas Tuples are immutable as python allocates tuples in fixed memory making it immposible to change any element.\n",
        "  - This nature of tuples as immutable makes is faster and safer.\n",
        "  - Tuples whereas prioritize data privacy, speed, memory efficiency."
      ],
      "metadata": {
        "id": "rx2MFWXB5D7Q"
      }
    },
    {
      "cell_type": "markdown",
      "source": [
        "7. What is the difference between “==” and “is” operators in Python?\n",
        "  - \"==\" and \"is\" are comparison opperators in python although have separate uses.\n",
        "  - \"==\" is an equality operator where it comapres value of two objects.\n",
        "  - If the values of two objects are equal, it returns true or else return false.\n",
        "  - \"is\" is a identity operator where it verifies if the two objects have the same memory location.\n",
        "  - If the location of the two objects are same or points to the same object, it returns true or else return false."
      ],
      "metadata": {
        "id": "6JNtuybn9yP4"
      }
    },
    {
      "cell_type": "code",
      "source": [
        "#### Example to the Ques no - 7\n",
        "# \"==\" equality operator\n",
        "\n",
        "a = 2\n",
        "b = 2\n",
        "print(a==b)"
      ],
      "metadata": {
        "colab": {
          "base_uri": "https://localhost:8080/"
        },
        "id": "JBgz2h8SAd2q",
        "outputId": "03a27d33-41ba-4ec8-b9cf-f11953cb2a36"
      },
      "execution_count": null,
      "outputs": [
        {
          "output_type": "stream",
          "name": "stdout",
          "text": [
            "True\n"
          ]
        }
      ]
    },
    {
      "cell_type": "code",
      "source": [
        "#### Example to the Ques no - 7\n",
        "# \"is\" indentity operator\n",
        "\n",
        "Saloni_list = [\"Potato\", \"Pears\", \"Soap\", \"Curd\"]\n",
        "Akanksha_list = Saloni_list\n",
        "print(Saloni_list is Akanksha_list)"
      ],
      "metadata": {
        "colab": {
          "base_uri": "https://localhost:8080/"
        },
        "id": "3UOpxjhLA9X0",
        "outputId": "4c57735b-4740-4559-c74c-7efd2dc80e4e"
      },
      "execution_count": null,
      "outputs": [
        {
          "output_type": "stream",
          "name": "stdout",
          "text": [
            "True\n"
          ]
        }
      ]
    },
    {
      "cell_type": "markdown",
      "source": [
        "8. What are logical operators in Python?\n",
        "  - Logical operators in python are used to combine conditional statement and returns to True or False value.\n",
        "  - Logical operators allows to create more complex expression.\n",
        "  - There are three types of logical operators:\n",
        "\n",
        "    1. And operator - Returns true if both conditions are true, if any one of the condition is false returns to false.\n",
        "  \n",
        "      ex -  x = 8\n",
        "         \n",
        "         print (x > 5 and x < 10)\n",
        "\n",
        "         True\n",
        "    2. Or operator - Returns to true if one of the condition is true, return false if both the conditons are false.\n",
        "    \n",
        "      ex - x = 8     \n",
        "        print (x > 5 or x > 10)\n",
        "\n",
        "         True\n",
        "\n",
        "    3. Not operator - Reverse the boolean results, from true to false and false from true.\n",
        "\n",
        "       ex - x = 8\n",
        "           \n",
        "           print ( not (x < 10))\n",
        "\n",
        "           True\n",
        "\n",
        "\n",
        "\n",
        "\n",
        "\n",
        "  \n",
        "  \n",
        "\n",
        "\n",
        "\n",
        "   \n",
        "\n",
        "\n",
        "\n",
        "         \n",
        "\n"
      ],
      "metadata": {
        "id": "Yz32ElqcB5cZ"
      }
    },
    {
      "cell_type": "markdown",
      "source": [
        "9. What is type casting in Python?\n",
        "  - In Python, type casting is the process of converting variable from one data type to another.\n",
        "  - There aretwo types of type casting:\n",
        "\n",
        "     1) Explicit type casting (manual) - Done manually using functions\n",
        "        like int(), float(), etc.\n",
        "\n",
        "     2) Implicit type casting (automatic) - Python automatically converts one data type to another."
      ],
      "metadata": {
        "id": "-1TYEJ1iJQ0v"
      }
    },
    {
      "cell_type": "markdown",
      "source": [
        "10. What is the difference between implicit and explicit type casting?\n",
        "    \n",
        "     1) Implicit type casting:\n",
        "      - Python automatically does implicit type of casting.\n",
        "      - It happenes when interpreter encounters mixed type of data structure.\n",
        "      - It aims to prevent data loss\n",
        "      - Ex:\n",
        "          \n",
        "                 a = 10\n",
        "                 b = 2.5\n",
        "                 c = a + b\n",
        "                 print(c)   # Python automatically converts 'a' (int) to float\n",
        "                 print(type(c))\n",
        "                 12.5\n",
        "                 Float\n",
        "\n",
        "    2) Explicit type casting:\n",
        "     - The programmer uses built in functions to convert data types.\n",
        "     - It is used when python doesn't convert data types automatically.\n",
        "     - Might causes data loss.\n",
        "     - Ex:    \n",
        "                x = 5.5\n",
        "                y = int(x)\n",
        "                print(y)  \n",
        "                5                   #Decimal part is removed\n",
        "\n",
        "            \n"
      ],
      "metadata": {
        "id": "xHsYdLyROBBJ"
      }
    },
    {
      "cell_type": "markdown",
      "source": [
        "11. What is the purpose of conditional statements in Python?\n",
        "   - The conditional statement in python is to make decisions based on whether certain conditions are met.\n",
        "   - They control the flow of execution by executing different block of code depending whether a condition is True or False.\n",
        "   - Conditionals statement help python to make decisions depending upon conditions, making python more intelligent.\n",
        "   - Types of conditions statement in pythons:\n",
        "     \n",
        "     1) if Statement: Executes a block of code only if the conditions is True.\n",
        "\n",
        "     2) if-else statement: Provides an alternative block if the condition is False.\n",
        "\n",
        "     3) if-elif-else statement: Used to check multiple conditions, executing the first True condition.\n",
        "\n",
        "     4) Nested if statement: Placing an if inside another if for complex conditions."
      ],
      "metadata": {
        "id": "CFWENrf0Sje5"
      }
    },
    {
      "cell_type": "markdown",
      "source": [
        "12. How does the elif statement work?\n",
        "   - The if-elif-else is the short form of \"else-if\" statement in python used to check multiple conditions and dictates the order in which code is executed.\n",
        "   - It is used to check multiple conditions and execute the first True conditions.\n",
        "\n",
        "   - Steps if-elif-else condition follow:\n",
        "\n",
        "     - First, the if condition is evaluated.\n",
        "     - Secondly, if the if conditions is True, the corresponding block of code is excuted and no further conditions are checked.\n",
        "     - Further, if the if condition is false, python checks the elif conditions one by one, in order.\n",
        "     - The first elif coditions that evaluates to be True executes, execute the corresponding code.\n",
        "     - If none of the if or elif conditions are True, the else block will be executed."
      ],
      "metadata": {
        "id": "fYMPYLMnY3Ig"
      }
    },
    {
      "cell_type": "markdown",
      "source": [
        "12. What is the difference between for and while loops?\n",
        "     \n",
        "     A) For loops:\n",
        "      - For loops are primarily used when the number of iteration are known beforehand.\n",
        "      - For loops are used to iterate over a sequence of element like lists, tuples, strings.\n",
        "      - For loop structure has an intialization, condition check, and incremental or decremental steps all within the loop defination.\n",
        "      - It uses iterable or range to control the flow.\n",
        "      - Loop variable are automatically managed.\n",
        "      - Ex:\n",
        "      \n",
        "               for i in range(5):         #Iterates 5 times\n",
        "                   print(i)\n",
        "    \n",
        "   B) While loops:\n",
        "      - While loops are used when the number of iteration are not known in advance and depends on a condition.\n",
        "      - While loops repeatedly execute a block of code until a condition become false.\n",
        "      - It require maual control over a loop variable,intializing and updating inside the loop.\n",
        "      - It uses a condition to control the flow.\n",
        "      - It is crucial to ensure that a condition must become false to avoid infinte loop.\n",
        "      - Ex:\n",
        "              i = 0\n",
        "              while i < 5:     # Runs until the condition becomes False\n",
        "                print(i)\n",
        "                i += 1         # Incrementing manually"
      ],
      "metadata": {
        "id": "G1l9w8u7cUAK"
      }
    },
    {
      "cell_type": "markdown",
      "source": [
        "14. Describe a scenario where a while loop is more suitable than a for loop\n",
        "\n",
        "    Scenario: **User Code verification:**\n",
        "    - Imagining creating a code that member of building may input to get access or enter the building.\n",
        "    - Since we don't know how many attempts an individual needs so in this case the while loop is a good choice.\n",
        "    - Ex:\n",
        "               correct_password = \"Northside2025\"\n",
        "               user_input = input(\"Enter the password: \")\n",
        "\n",
        "               while user_input != correct_password:\n",
        "                 print(\"Incorrect password! try again\")\n",
        "                 user_input = input(\"Enter the password: \")\n",
        "\n",
        "               print(\"Access granted\")\n",
        "               \n",
        "    - The loops run continues to run until the user enter the correct code.\n",
        "    - In this case a for loop would'nt be ideal because it runs for a fixed no of iteration.\n",
        "\n",
        "\n",
        "\n",
        "      \n"
      ],
      "metadata": {
        "id": "O-xGIPd1ShBd"
      }
    },
    {
      "cell_type": "markdown",
      "source": [
        "#### Python Basics\n",
        "# Practical Part"
      ],
      "metadata": {
        "id": "RvHOuWCBbyWj"
      }
    },
    {
      "cell_type": "code",
      "source": [
        "#### 1. Write a Python program to print \"Hello, World!\n",
        "\n",
        "print(\"Hello, World!\")"
      ],
      "metadata": {
        "colab": {
          "base_uri": "https://localhost:8080/"
        },
        "id": "QtpPn12Cb5GV",
        "outputId": "a9bd7170-1714-46da-e5c8-a90d84ba0f56"
      },
      "execution_count": 17,
      "outputs": [
        {
          "output_type": "stream",
          "name": "stdout",
          "text": [
            "Hello, World!\n"
          ]
        }
      ]
    },
    {
      "cell_type": "code",
      "source": [
        "#### 2. Write a Python program that displays your name and age\n",
        "\n",
        "name = \"Saloni Tamang\"\n",
        "age = 24\n",
        "print(f\"My name is {name} and I am {age} years old.\")"
      ],
      "metadata": {
        "colab": {
          "base_uri": "https://localhost:8080/"
        },
        "id": "ifWWjqsXjFO9",
        "outputId": "6e3f2b7c-4789-4d8b-fd82-549c68a89fd6"
      },
      "execution_count": 23,
      "outputs": [
        {
          "output_type": "stream",
          "name": "stdout",
          "text": [
            "My name is Saloni Tamang and I am 24 years old.\n"
          ]
        }
      ]
    },
    {
      "cell_type": "code",
      "source": [
        "#### 3. Write code to print all the pre-defined keywords in Python using the keyword library.\n",
        "\n",
        "import keyword\n",
        "keywords_list = keyword.kwlist\n",
        "print(\"python keywords\")\n",
        "for keyword in keywords_list:\n",
        "  print(keyword)"
      ],
      "metadata": {
        "colab": {
          "base_uri": "https://localhost:8080/"
        },
        "id": "fh6igiCZm_pa",
        "outputId": "c5403c04-bfe7-42a8-82e1-d342862e57a0"
      },
      "execution_count": 31,
      "outputs": [
        {
          "output_type": "stream",
          "name": "stdout",
          "text": [
            "python keywords\n",
            "False\n",
            "None\n",
            "True\n",
            "and\n",
            "as\n",
            "assert\n",
            "async\n",
            "await\n",
            "break\n",
            "class\n",
            "continue\n",
            "def\n",
            "del\n",
            "elif\n",
            "else\n",
            "except\n",
            "finally\n",
            "for\n",
            "from\n",
            "global\n",
            "if\n",
            "import\n",
            "in\n",
            "is\n",
            "lambda\n",
            "nonlocal\n",
            "not\n",
            "or\n",
            "pass\n",
            "raise\n",
            "return\n",
            "try\n",
            "while\n",
            "with\n",
            "yield\n"
          ]
        }
      ]
    },
    {
      "cell_type": "code",
      "source": [
        "#### 4. Write a program that checks if a given word is a Python keyword.\n",
        "import keyword\n",
        "word = input(\"Enter a word: \")\n",
        "\n",
        "if keyword.iskeyword(word):\n",
        "    print(f\"'{word}' is a Python keyword.\")\n",
        "else:\n",
        "    print(f\"'{word}'is not a Python keyword.\")"
      ],
      "metadata": {
        "colab": {
          "base_uri": "https://localhost:8080/"
        },
        "id": "_7W6Dfbi0p29",
        "outputId": "9c88a755-52b0-4b1f-97a7-13a529f5277a"
      },
      "execution_count": 24,
      "outputs": [
        {
          "output_type": "stream",
          "name": "stdout",
          "text": [
            "Enter a word: Either\n",
            "'Either'is not a Python keyword.\n"
          ]
        }
      ]
    },
    {
      "cell_type": "code",
      "source": [
        "#### 5. Create a list and tuple in Python, and demonstrate how attempting to change an element works differently for each.\n",
        "\n",
        "# In python, list is mutable. Here is an example:\n",
        "\n",
        "my_list = [\"Saloni\", 4,5,8,3.4,\"Akanksha\"]\n",
        "print(\"Original list:\", my_list)\n",
        "my_list[3] = \"Manish\"\n",
        "print(\"Modified list:\", my_list)\n"
      ],
      "metadata": {
        "colab": {
          "base_uri": "https://localhost:8080/"
        },
        "id": "1HnoJ-HD1MY5",
        "outputId": "05aab8ac-69a6-4779-cd2c-a3f2f7dbfea0"
      },
      "execution_count": 17,
      "outputs": [
        {
          "output_type": "stream",
          "name": "stdout",
          "text": [
            "Original list: ['Saloni', 4, 5, 8, 3.4, 'Akanksha']\n",
            "Modified list: ['Saloni', 4, 5, 'Manish', 3.4, 'Akanksha']\n"
          ]
        }
      ]
    },
    {
      "cell_type": "code",
      "source": [
        "# In python, tuple is immutable. Here is an example:\n",
        "\n",
        "my_tuple = (\"Saloni\", 4,5,8,3.4,\"Akanksha\")\n",
        "print(\"Original tuple:\", my_tuple)\n",
        "my_tuple[3] = \"Manish\"\n",
        "print(\"Modified tuple:\", my_tuple)\n",
        "\n",
        "\n",
        "# As its output says \"'tuple' object does not support item assignment\" because it is immutable in\n",
        "# which element once assigned cannot be changed or modified."
      ],
      "metadata": {
        "colab": {
          "base_uri": "https://localhost:8080/",
          "height": 220
        },
        "id": "bvByn0h444iU",
        "outputId": "b7d9df88-3bcf-42f1-ebe3-a3c8e2fe81bc"
      },
      "execution_count": 18,
      "outputs": [
        {
          "output_type": "stream",
          "name": "stdout",
          "text": [
            "Original tuple: ('Saloni', 4, 5, 8, 3.4, 'Akanksha')\n"
          ]
        },
        {
          "output_type": "error",
          "ename": "TypeError",
          "evalue": "'tuple' object does not support item assignment",
          "traceback": [
            "\u001b[0;31m---------------------------------------------------------------------------\u001b[0m",
            "\u001b[0;31mTypeError\u001b[0m                                 Traceback (most recent call last)",
            "\u001b[0;32m<ipython-input-18-76f64ef5695c>\u001b[0m in \u001b[0;36m<cell line: 0>\u001b[0;34m()\u001b[0m\n\u001b[1;32m      2\u001b[0m \u001b[0mmy_tuple\u001b[0m \u001b[0;34m=\u001b[0m \u001b[0;34m(\u001b[0m\u001b[0;34m\"Saloni\"\u001b[0m\u001b[0;34m,\u001b[0m \u001b[0;36m4\u001b[0m\u001b[0;34m,\u001b[0m\u001b[0;36m5\u001b[0m\u001b[0;34m,\u001b[0m\u001b[0;36m8\u001b[0m\u001b[0;34m,\u001b[0m\u001b[0;36m3.4\u001b[0m\u001b[0;34m,\u001b[0m\u001b[0;34m\"Akanksha\"\u001b[0m\u001b[0;34m)\u001b[0m\u001b[0;34m\u001b[0m\u001b[0;34m\u001b[0m\u001b[0m\n\u001b[1;32m      3\u001b[0m \u001b[0mprint\u001b[0m\u001b[0;34m(\u001b[0m\u001b[0;34m\"Original tuple:\"\u001b[0m\u001b[0;34m,\u001b[0m \u001b[0mmy_tuple\u001b[0m\u001b[0;34m)\u001b[0m\u001b[0;34m\u001b[0m\u001b[0;34m\u001b[0m\u001b[0m\n\u001b[0;32m----> 4\u001b[0;31m \u001b[0mmy_tuple\u001b[0m\u001b[0;34m[\u001b[0m\u001b[0;36m3\u001b[0m\u001b[0;34m]\u001b[0m \u001b[0;34m=\u001b[0m \u001b[0;34m\"Manish\"\u001b[0m\u001b[0;34m\u001b[0m\u001b[0;34m\u001b[0m\u001b[0m\n\u001b[0m\u001b[1;32m      5\u001b[0m \u001b[0mprint\u001b[0m\u001b[0;34m(\u001b[0m\u001b[0;34m\"Modified tuple:\"\u001b[0m\u001b[0;34m,\u001b[0m \u001b[0mmy_tuple\u001b[0m\u001b[0;34m)\u001b[0m\u001b[0;34m\u001b[0m\u001b[0;34m\u001b[0m\u001b[0m\n",
            "\u001b[0;31mTypeError\u001b[0m: 'tuple' object does not support item assignment"
          ]
        }
      ]
    },
    {
      "cell_type": "code",
      "source": [
        "#### 6. Write a function to demonstrate the behavior of mutable and immutable arguments.\n",
        "\n",
        "# The following are the functions demonstrating the mutable and immutable arguments in python.\n",
        "\n"
      ],
      "metadata": {
        "id": "-jtQtOt85f7D"
      },
      "execution_count": null,
      "outputs": []
    },
    {
      "cell_type": "code",
      "source": [
        "#### 7. Write a program to demonstrate the use of logical operators.\n",
        "\n",
        "# Python have three logical operators: and, or and not\n",
        "\n",
        "# 1) And operator : Where both the conditions must be true, thus giving true or else throw false.\n",
        "\n",
        "a = 40\n",
        "b = 70\n",
        "c = 90\n",
        "print(a<b and b<c)\n",
        "\n",
        "\n",
        "# 2) Or operator : Where one of the conditions must be true to give us the output as true.\n",
        "\n",
        "a = 40\n",
        "b = 70\n",
        "c = 90\n",
        "print(a<b or b>c)\n",
        "\n",
        "\n",
        "# 3) Not operator : Reverse the boolean results, from true to false and false from true.\n",
        "\n",
        "a = 40\n",
        "b = 70\n",
        "c = 90\n",
        "print(not(a<b))\n",
        "\n",
        "\n"
      ],
      "metadata": {
        "colab": {
          "base_uri": "https://localhost:8080/"
        },
        "id": "6epaV2AkFOlX",
        "outputId": "9c2df80d-dd86-4bd9-de08-1c00ae5ae5ee"
      },
      "execution_count": 22,
      "outputs": [
        {
          "output_type": "stream",
          "name": "stdout",
          "text": [
            "True\n",
            "True\n",
            "False\n"
          ]
        }
      ]
    },
    {
      "cell_type": "code",
      "source": [
        "#### 8. Write a Python program to convert user input from string to integer, float, and boolean types.\n",
        "\n",
        "\n",
        "# Converting to integer\n",
        "user_input = input(\"Enter a value: \")\n",
        "try:\n",
        "    int_value = int(user_input)\n",
        "    print(\"Integer:\", int_value)\n",
        "except ValueError:\n",
        "    print(\"Cannot convert to Integer\")\n",
        "\n",
        "# Converting to float\n",
        "user_input = input(\"Enter a value: \")\n",
        "try:\n",
        "    float_value = float(user_input)\n",
        "    print(\"Float:\", float_value)\n",
        "except ValueError:\n",
        "    print(\"Cannot convert to Float\")\n",
        "\n",
        "# Converting to boolean\n",
        "user_input = input(\"Enter a value: \")     # Any non-empty string converts to True\n",
        "bool_value = bool(user_input)\n",
        "print(\"Boolean:\", bool_value)\n",
        "\n",
        "\n",
        "# The try and except block in python is mechanism for handling exceptions (error)\n",
        "# that might occur during the execution of a program.\n",
        "# The try block contains the code user wants to execute and if any error occure it\n",
        "# stops execution and jumps to the except block.\n",
        "# Whereas, except block specifies how to handle an error.\n",
        "\n"
      ],
      "metadata": {
        "colab": {
          "base_uri": "https://localhost:8080/"
        },
        "id": "P8uueSR2KTim",
        "outputId": "d6767e62-9786-4890-b2b9-c7a8b8538e4d"
      },
      "execution_count": 52,
      "outputs": [
        {
          "output_type": "stream",
          "name": "stdout",
          "text": [
            "Enter a value: Saloni\n",
            "Cannot convert to Integer\n",
            "Cannot convert to Float\n",
            "Boolean: True\n"
          ]
        }
      ]
    },
    {
      "cell_type": "code",
      "source": [
        "# 9.Write code to demonstrate type casting with list elements.\n",
        "\n",
        "\n",
        "my_list = [\"5\", \"99\", \"85\", \"40\", \"355\"]\n",
        "\n",
        "# Converting list elements to integers\n",
        "int_list = [int(num) for num in my_list]\n",
        "print(\"Integer List:\", int_list)\n",
        "\n",
        "# Converting list elements to floats\n",
        "float_list = [float(num) for num in my_list]\n",
        "print(\"Float List:\", float_list)\n",
        "\n",
        "# Converting list elements to boolean (Non-empty strings become True)\n",
        "bool_list = [bool(num) for num in my_list]\n",
        "print(\"Boolean List:\", bool_list)\n",
        "\n",
        "\n",
        "# Converting list elements to string\n",
        "str_list = [str(num) for num in my_list]\n",
        "print(\"String List:\", str_list)\n",
        "\n",
        "\n"
      ],
      "metadata": {
        "colab": {
          "base_uri": "https://localhost:8080/"
        },
        "id": "Ykb9oKUvNAWG",
        "outputId": "84279a6e-4145-4039-9fdc-921e67e73ccb"
      },
      "execution_count": 59,
      "outputs": [
        {
          "output_type": "stream",
          "name": "stdout",
          "text": [
            "Integer List: [5, 99, 85, 40, 355]\n",
            "Float List: [5.0, 99.0, 85.0, 40.0, 355.0]\n",
            "Boolean List: [True, True, True, True, True]\n",
            "String List: ['5', '99', '85', '40', '355']\n"
          ]
        }
      ]
    },
    {
      "cell_type": "code",
      "source": [
        "#### 10. Write a program that checks if a number is positive, negative, or zero\n",
        "\n",
        "\n",
        "num = float(input(\"Enter a number: \"))\n",
        "\n",
        "if num > 0:\n",
        "    print(\"The number is positive.\")\n",
        "elif num < 0:\n",
        "    print(\"The number is negative.\")\n",
        "else:\n",
        "    print(\"The number is zero.\")\n",
        "\n",
        "\n"
      ],
      "metadata": {
        "colab": {
          "base_uri": "https://localhost:8080/"
        },
        "id": "lntJNIchVMsN",
        "outputId": "979705f5-a37d-4486-bfd8-7faaf77a3f3f"
      },
      "execution_count": 64,
      "outputs": [
        {
          "output_type": "stream",
          "name": "stdout",
          "text": [
            "Enter a number: -0.5\n",
            "The number is negative.\n"
          ]
        }
      ]
    },
    {
      "cell_type": "code",
      "source": [
        "#### 11.  Write a for loop to print numbers from 1 to 100\n",
        "\n",
        "for num in range(1,101,1):\n",
        "  print(num, end = \",\")"
      ],
      "metadata": {
        "colab": {
          "base_uri": "https://localhost:8080/"
        },
        "id": "GnDCUirEYRoY",
        "outputId": "bb62538c-8196-466f-f88f-b6d357f64c78"
      },
      "execution_count": 72,
      "outputs": [
        {
          "output_type": "stream",
          "name": "stdout",
          "text": [
            "1,2,3,4,5,6,7,8,9,10,11,12,13,14,15,16,17,18,19,20,21,22,23,24,25,26,27,28,29,30,31,32,33,34,35,36,37,38,39,40,41,42,43,44,45,46,47,48,49,50,51,52,53,54,55,56,57,58,59,60,61,62,63,64,65,66,67,68,69,70,71,72,73,74,75,76,77,78,79,80,81,82,83,84,85,86,87,88,89,90,91,92,93,94,95,96,97,98,99,100,"
          ]
        }
      ]
    },
    {
      "cell_type": "code",
      "source": [
        "#### 12. Write a Python program to find the sum of all even numbers between 1 and 500\n",
        "\n",
        "sum_even = 0\n",
        "for num in range(2, 501, 2):\n",
        "    sum_even += num\n",
        "print(\"The sum of all even numbers between 1 and 500 is:\", sum_even)\n"
      ],
      "metadata": {
        "colab": {
          "base_uri": "https://localhost:8080/"
        },
        "id": "9fW8gWO0ZyhS",
        "outputId": "70b48331-e54d-4696-8787-730ed5b32e1d"
      },
      "execution_count": 76,
      "outputs": [
        {
          "output_type": "stream",
          "name": "stdout",
          "text": [
            "The sum of all even numbers between 1 and 500 is: 62750\n"
          ]
        }
      ]
    },
    {
      "cell_type": "code",
      "source": [
        "#### 13. Write a program to reverse a string using a while loop\n",
        "\n",
        "string = input(\"Enter a string: \")\n",
        "reversed_string = \"\"\n",
        "length = len(string)\n",
        "index = length - 1\n",
        "\n",
        "while index >= 0:\n",
        "    reversed_string += string[index]\n",
        "    index -= 1\n",
        "\n",
        "print(\"Reversed string:\", reversed_string)"
      ],
      "metadata": {
        "colab": {
          "base_uri": "https://localhost:8080/"
        },
        "id": "_5hNjWYacSVS",
        "outputId": "386ac15e-458e-4821-f492-44eba4ce9519"
      },
      "execution_count": 77,
      "outputs": [
        {
          "output_type": "stream",
          "name": "stdout",
          "text": [
            "Enter a string: Saloni\n",
            "Reversed string: inolaS\n"
          ]
        }
      ]
    },
    {
      "cell_type": "code",
      "source": [],
      "metadata": {
        "id": "zdaSy4Eye22b"
      },
      "execution_count": null,
      "outputs": []
    }
  ]
}